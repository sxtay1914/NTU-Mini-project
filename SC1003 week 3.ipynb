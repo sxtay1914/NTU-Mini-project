{
 "cells": [
  {
   "cell_type": "code",
   "execution_count": null,
   "id": "63a9b131",
   "metadata": {},
   "outputs": [],
   "source": [
    "#TODO 1\n",
    "player1=input('What is your name?')\n",
    "player2='Computer User'\n",
    "\n",
    "#TODO 2\n",
    "layer=2\n",
    "surface=1\n",
    "underwater=0\n",
    "\n",
    "#TODO 3\n",
    "board_width=10\n",
    "board_height=10\n",
    "\n",
    "#TODO 4\n",
    "valid=False\n",
    "hit=False\n",
    "miss=False\n",
    "\n",
    "#TODO 5\n",
    "v='vertical'\n",
    "h='horizontal'\n",
    "\n",
    "#TODO 6\n",
    "orientation=input('Give the orientation of the ship')\n",
    "if orientation is v:\n",
    "    \n",
    "\n",
    "coordinate_1=''\n",
    "while not ord('A')<ord(coordinates)<ord('J'):\n",
    "    coordinates=input('Give me board width')\n",
    "    coordinates.upper()\n",
    "    \n",
    "coordinate_2=-1\n",
    "while coordinate_2 not in range(11):\n",
    "    coordinates_2=input('Give me board length')\n",
    "    \n",
    "coordinate_3=-1\n",
    "while coordinate_3 not in range(1):\n",
    "    coordinate_3=input('Give me board depth')\n",
    "    \n",
    "\n",
    "#TODO 7\n",
    "submarine='Submarine'\n",
    "carrier='Carrier'\n",
    "\n",
    "#TODO 8\n",
    "input('Welcome to Battleships! Hit ENTER to continue')\n"
   ]
  }
 ],
 "metadata": {
  "kernelspec": {
   "display_name": "Python 3 (ipykernel)",
   "language": "python",
   "name": "python3"
  },
  "language_info": {
   "codemirror_mode": {
    "name": "ipython",
    "version": 3
   },
   "file_extension": ".py",
   "mimetype": "text/x-python",
   "name": "python",
   "nbconvert_exporter": "python",
   "pygments_lexer": "ipython3",
   "version": "3.10.9"
  }
 },
 "nbformat": 4,
 "nbformat_minor": 5
}
